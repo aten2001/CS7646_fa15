{
 "metadata": {
  "name": "",
  "signature": "sha256:85db4c7b39272f816dbe4f38ef656cd2c67f1c7df877976aee28918d08289a54"
 },
 "nbformat": 3,
 "nbformat_minor": 0,
 "worksheets": [
  {
   "cells": [
    {
     "cell_type": "code",
     "collapsed": false,
     "input": [
      "\"\"\"MC1-P1: Analyze a portfolio.\"\"\"\n",
      "%matplotlib inline  \n",
      "import pandas as pd\n",
      "import matplotlib.pyplot as plt\n",
      "import numpy as np\n",
      "from collections import OrderedDict\n",
      "\n",
      "from util import get_data, plot_data"
     ],
     "language": "python",
     "metadata": {},
     "outputs": [],
     "prompt_number": 9
    },
    {
     "cell_type": "code",
     "collapsed": false,
     "input": [
      "def assess_portfolio(start_date, end_date, symbols, allocs, start_val=1):\n",
      "    \"\"\"Simulate and assess the performance of a stock portfolio.\"\"\"\n",
      "    # Read in adjusted closing prices for given symbols, date range\n",
      "    dates = pd.date_range(start_date, end_date)\n",
      "    prices_all = get_data(symbols, dates)  # automatically adds SPY\n",
      "    prices = prices_all[symbols]  # only portfolio symbols\n",
      "    prices_SPY = prices_all['SPY']  # only SPY, for comparison later\n",
      "    \n",
      "   \n",
      "\n",
      "    # Get daily portfolio value\n",
      "    port_val = get_portfolio_value(prices, allocs, start_val)\n",
      "    \n",
      "   \n",
      "    #plot_data(port_val, title=\"Daily Portfolio Value\")\n",
      "\n",
      "    # Get portfolio statistics (note: std_daily_ret = volatility)\n",
      "    cum_ret, avg_daily_ret, std_daily_ret, sharpe_ratio = get_portfolio_stats(port_val)\n",
      "    \n",
      "\n",
      "    # Print statistics\n",
      "    print \"Start Date:\", start_date\n",
      "    print \"End Date:\", end_date\n",
      "    print \"Symbols:\", symbols\n",
      "    print \"Allocations:\", allocs\n",
      "    print \"Sharpe Ratio:\", sharpe_ratio\n",
      "    print \"Volatility (stdev of daily returns):\", std_daily_ret\n",
      "    print \"Average Daily Return:\", avg_daily_ret\n",
      "    print \"Cumulative Return:\", cum_ret\n",
      "\n",
      "    # Compare daily portfolio value with SPY using a normalized plot\n",
      "    df_temp = pd.concat([port_val, prices_SPY], keys=['Portfolio', 'SPY'], axis=1)\n",
      "    plot_normalized_data(df_temp, title=\"Daily portfolio value and SPY\")"
     ],
     "language": "python",
     "metadata": {},
     "outputs": [],
     "prompt_number": 4
    },
    {
     "cell_type": "code",
     "collapsed": false,
     "input": [
      "def get_portfolio_value(prices, allocs, start_val=1):\n",
      "    \"\"\"Compute daily portfolio value given stock prices, allocations and starting value.\n",
      "\n",
      "    Parameters\n",
      "    ----------\n",
      "        prices: daily prices for each stock in portfolio\n",
      "        allocs: initial allocations, as fractions that sum to 1\n",
      "        start_val: total starting value invested in portfolio (default: 1)\n",
      "\n",
      "    Returns\n",
      "    -------\n",
      "        port_val: daily portfolio value\n",
      "    \"\"\"\n",
      "\n",
      "    port_val = start_val\n",
      "    l_port_vals_by_day = []\n",
      "    \n",
      "    for idx in range(len(prices)):\n",
      "        if idx == 0:\n",
      "            port_val_this_day = start_val\n",
      "            l_port_vals_by_day.append(port_val_this_day)\n",
      "        else:\n",
      "            last_port_val = l_port_vals_by_day[idx-1]\n",
      "            today_stock_vals = []\n",
      "            for idx_stock in range(len(allocs)):\n",
      "                alloc= allocs[idx_stock]\n",
      "                val_this_stock = (prices.iloc[idx][idx_stock] / prices.iloc[idx-1][idx_stock] ) * alloc * last_port_val\n",
      "                today_stock_vals.append(val_this_stock)\n",
      "            port_val_this_day = np.sum(today_stock_vals)\n",
      "            l_port_vals_by_day.append(port_val_this_day)\n",
      "    df_port_vals = pd.DataFrame([])\n",
      "    df_port_vals[0] = l_port_vals_by_day\n",
      "    return df_port_vals"
     ],
     "language": "python",
     "metadata": {},
     "outputs": [],
     "prompt_number": 5
    },
    {
     "cell_type": "code",
     "collapsed": false,
     "input": [
      "def get_portfolio_stats(port_val, daily_rf=0, samples_per_year=252):\n",
      "    \"\"\"Calculate statistics on given portfolio values.\n",
      "\n",
      "    Parameters\n",
      "    ----------\n",
      "        port_val: daily portfolio value\n",
      "        daily_rf: daily risk-free rate of return (default: 0%)\n",
      "        samples_per_year: frequency of sampling (default: 252 trading days)\n",
      "\n",
      "    Returns\n",
      "    -------\n",
      "        cum_ret: cumulative return\n",
      "        avg_daily_ret: average of daily returns\n",
      "        std_daily_ret: standard deviation of daily returns\n",
      "        sharpe_ratio: annualized Sharpe ratio\n",
      "    \"\"\"\n",
      "    # TODO: Your code here\n",
      "    print port_val.head()\n",
      "    cum_ret = list(port_val[0])[-1] - list(port_val[0])[0]\n",
      "    \n",
      "    l_daily_ret = []\n",
      "    for idx in range(len(port_val)):\n",
      "        if idx == 0:\n",
      "            l_daily_ret.append(0)\n",
      "        else:\n",
      "            return_this_day = (port_val.iloc[idx][0] - port_val.iloc[idx-1][0]) / port_val.iloc[idx-1][0]\n",
      "            l_daily_ret.append(return_this_day)\n",
      "    cum_ret = np.sum(l_daily_ret)\n",
      "    avg_daily_ret = np.mean(l_daily_ret)\n",
      "    std_daily_ret = np.std(l_daily_ret)\n",
      "    sharpe_ratio = (avg_daily_ret - daily_rf) / std_daily_ret\n",
      "    return cum_ret, avg_daily_ret, std_daily_ret, sharpe_ratio"
     ],
     "language": "python",
     "metadata": {},
     "outputs": [],
     "prompt_number": 6
    },
    {
     "cell_type": "code",
     "collapsed": false,
     "input": [
      "def plot_normalized_data(df, title=\"Normalized prices\", xlabel=\"Date\", ylabel=\"Normalized price\"):\n",
      "    \"\"\"Normalize given stock prices and plot for comparison.\n",
      "\n",
      "    Parameters\n",
      "    ----------\n",
      "        df: DataFrame containing stock prices to plot (non-normalized)\n",
      "        title: plot title\n",
      "        xlabel: X-axis label\n",
      "        ylabel: Y-axis label\n",
      "    \"\"\"\n",
      "    ldt_timestamps = list(df.index)  # timestamps from dataframe\n",
      "    ls_symbols = list(df.columns.values) # symbols for the stocks\n",
      "    na_normalized_price = df.values\n",
      "\n",
      "    # na_normalized_price = na_price\n",
      "\n",
      "    plt.clf()\n",
      "    plt.plot(ldt_timestamps, na_normalized_price)\n",
      "    # plt.legend(ls_symbols)\n",
      "    # plt.ylabel('ylabel')\n",
      "    # plt.xlabel('xlabel')\n",
      "    plt.savefig('comparison.png', format='png')"
     ],
     "language": "python",
     "metadata": {},
     "outputs": [],
     "prompt_number": 20
    },
    {
     "cell_type": "code",
     "collapsed": false,
     "input": [
      "### start testing\n",
      "\n",
      "\n",
      "\n",
      "start_date = '2010-01-01'\n",
      "end_date = '2010-12-31'\n",
      "\n",
      "symbol_allocations = OrderedDict([('GOOG', 0.2), ('AAPL', 0.3), ('GLD', 0.4), ('XOM', 0.1)])  # symbols and corresponding allocations\n",
      "#symbol_allocations = OrderedDict([('AXP', 0.0), ('HPQ', 0.0), ('IBM', 0.0), ('HNZ', 1.0)])  # allocations from wiki example\n",
      "\n",
      "symbols = symbol_allocations.keys()  # list of symbols, e.g.: ['GOOG', 'AAPL', 'GLD', 'XOM']\n",
      "allocs = symbol_allocations.values()  # list of allocations, e.g.: [0.2, 0.3, 0.4, 0.1]\n",
      "start_val = 1000000  # starting value of portfolio\n",
      "\n",
      "# Assess the portfolio\n",
      "assess_portfolio(start_date, end_date, symbols, allocs, start_val)\n",
      "\n"
     ],
     "language": "python",
     "metadata": {},
     "outputs": [
      {
       "output_type": "stream",
       "stream": "stdout",
       "text": [
        "                0\n",
        "0  1000000.000000\n",
        "1   999649.068317\n",
        "2   997307.799320\n",
        "3   989320.089190\n",
        "4   995494.519703\n",
        "Start Date:"
       ]
      },
      {
       "output_type": "stream",
       "stream": "stdout",
       "text": [
        " 2010-01-01\n",
        "End Date: 2010-12-31\n",
        "Symbols: ['GOOG', 'AAPL', 'GLD', 'XOM']\n",
        "Allocations: [0.2, 0.3, 0.4, 0.1]\n",
        "Sharpe Ratio: 0.0950792641164\n",
        "Volatility (stdev of daily returns): 0.0100002383995\n",
        "Average Daily Return: 0.000950815308008\n",
        "Cumulative Return: 0.239605457618\n"
       ]
      },
      {
       "ename": "TypeError",
       "evalue": "float() argument must be a string or a number",
       "output_type": "pyerr",
       "traceback": [
        "\u001b[0;31m---------------------------------------------------------------------------\u001b[0m\n\u001b[0;31mTypeError\u001b[0m                                 Traceback (most recent call last)",
        "\u001b[0;32m<ipython-input-21-13366454c8e7>\u001b[0m in \u001b[0;36m<module>\u001b[0;34m()\u001b[0m\n\u001b[1;32m     14\u001b[0m \u001b[0;34m\u001b[0m\u001b[0m\n\u001b[1;32m     15\u001b[0m \u001b[0;31m# Assess the portfolio\u001b[0m\u001b[0;34m\u001b[0m\u001b[0;34m\u001b[0m\u001b[0m\n\u001b[0;32m---> 16\u001b[0;31m \u001b[0massess_portfolio\u001b[0m\u001b[0;34m(\u001b[0m\u001b[0mstart_date\u001b[0m\u001b[0;34m,\u001b[0m \u001b[0mend_date\u001b[0m\u001b[0;34m,\u001b[0m \u001b[0msymbols\u001b[0m\u001b[0;34m,\u001b[0m \u001b[0mallocs\u001b[0m\u001b[0;34m,\u001b[0m \u001b[0mstart_val\u001b[0m\u001b[0;34m)\u001b[0m\u001b[0;34m\u001b[0m\u001b[0m\n\u001b[0m\u001b[1;32m     17\u001b[0m \u001b[0;34m\u001b[0m\u001b[0m\n",
        "\u001b[0;32m<ipython-input-4-3d23b6089b54>\u001b[0m in \u001b[0;36massess_portfolio\u001b[0;34m(start_date, end_date, symbols, allocs, start_val)\u001b[0m\n\u001b[1;32m     31\u001b[0m     \u001b[0;31m# Compare daily portfolio value with SPY using a normalized plot\u001b[0m\u001b[0;34m\u001b[0m\u001b[0;34m\u001b[0m\u001b[0m\n\u001b[1;32m     32\u001b[0m     \u001b[0mdf_temp\u001b[0m \u001b[0;34m=\u001b[0m \u001b[0mpd\u001b[0m\u001b[0;34m.\u001b[0m\u001b[0mconcat\u001b[0m\u001b[0;34m(\u001b[0m\u001b[0;34m[\u001b[0m\u001b[0mport_val\u001b[0m\u001b[0;34m,\u001b[0m \u001b[0mprices_SPY\u001b[0m\u001b[0;34m]\u001b[0m\u001b[0;34m,\u001b[0m \u001b[0mkeys\u001b[0m\u001b[0;34m=\u001b[0m\u001b[0;34m[\u001b[0m\u001b[0;34m'Portfolio'\u001b[0m\u001b[0;34m,\u001b[0m \u001b[0;34m'SPY'\u001b[0m\u001b[0;34m]\u001b[0m\u001b[0;34m,\u001b[0m \u001b[0maxis\u001b[0m\u001b[0;34m=\u001b[0m\u001b[0;36m1\u001b[0m\u001b[0;34m)\u001b[0m\u001b[0;34m\u001b[0m\u001b[0m\n\u001b[0;32m---> 33\u001b[0;31m     \u001b[0mplot_normalized_data\u001b[0m\u001b[0;34m(\u001b[0m\u001b[0mdf_temp\u001b[0m\u001b[0;34m,\u001b[0m \u001b[0mtitle\u001b[0m\u001b[0;34m=\u001b[0m\u001b[0;34m\"Daily portfolio value and SPY\"\u001b[0m\u001b[0;34m)\u001b[0m\u001b[0;34m\u001b[0m\u001b[0m\n\u001b[0m",
        "\u001b[0;32m<ipython-input-20-a5947cf30dd6>\u001b[0m in \u001b[0;36mplot_normalized_data\u001b[0;34m(df, title, xlabel, ylabel)\u001b[0m\n\u001b[1;32m     16\u001b[0m \u001b[0;34m\u001b[0m\u001b[0m\n\u001b[1;32m     17\u001b[0m     \u001b[0mplt\u001b[0m\u001b[0;34m.\u001b[0m\u001b[0mclf\u001b[0m\u001b[0;34m(\u001b[0m\u001b[0;34m)\u001b[0m\u001b[0;34m\u001b[0m\u001b[0m\n\u001b[0;32m---> 18\u001b[0;31m     \u001b[0mplt\u001b[0m\u001b[0;34m.\u001b[0m\u001b[0mplot\u001b[0m\u001b[0;34m(\u001b[0m\u001b[0mldt_timestamps\u001b[0m\u001b[0;34m,\u001b[0m \u001b[0mna_normalized_price\u001b[0m\u001b[0;34m)\u001b[0m\u001b[0;34m\u001b[0m\u001b[0m\n\u001b[0m\u001b[1;32m     19\u001b[0m     \u001b[0;31m# plt.legend(ls_symbols)\u001b[0m\u001b[0;34m\u001b[0m\u001b[0;34m\u001b[0m\u001b[0m\n\u001b[1;32m     20\u001b[0m     \u001b[0;31m# plt.ylabel('ylabel')\u001b[0m\u001b[0;34m\u001b[0m\u001b[0;34m\u001b[0m\u001b[0m\n",
        "\u001b[0;32m/Users/localadmin/Library/Enthought/Canopy_64bit/User/lib/python2.7/site-packages/matplotlib/pyplot.pyc\u001b[0m in \u001b[0;36mplot\u001b[0;34m(*args, **kwargs)\u001b[0m\n\u001b[1;32m   2985\u001b[0m         \u001b[0max\u001b[0m\u001b[0;34m.\u001b[0m\u001b[0mhold\u001b[0m\u001b[0;34m(\u001b[0m\u001b[0mhold\u001b[0m\u001b[0;34m)\u001b[0m\u001b[0;34m\u001b[0m\u001b[0m\n\u001b[1;32m   2986\u001b[0m     \u001b[0;32mtry\u001b[0m\u001b[0;34m:\u001b[0m\u001b[0;34m\u001b[0m\u001b[0m\n\u001b[0;32m-> 2987\u001b[0;31m         \u001b[0mret\u001b[0m \u001b[0;34m=\u001b[0m \u001b[0max\u001b[0m\u001b[0;34m.\u001b[0m\u001b[0mplot\u001b[0m\u001b[0;34m(\u001b[0m\u001b[0;34m*\u001b[0m\u001b[0margs\u001b[0m\u001b[0;34m,\u001b[0m \u001b[0;34m**\u001b[0m\u001b[0mkwargs\u001b[0m\u001b[0;34m)\u001b[0m\u001b[0;34m\u001b[0m\u001b[0m\n\u001b[0m\u001b[1;32m   2988\u001b[0m         \u001b[0mdraw_if_interactive\u001b[0m\u001b[0;34m(\u001b[0m\u001b[0;34m)\u001b[0m\u001b[0;34m\u001b[0m\u001b[0m\n\u001b[1;32m   2989\u001b[0m     \u001b[0;32mfinally\u001b[0m\u001b[0;34m:\u001b[0m\u001b[0;34m\u001b[0m\u001b[0m\n",
        "\u001b[0;32m/Users/localadmin/Library/Enthought/Canopy_64bit/User/lib/python2.7/site-packages/matplotlib/axes.pyc\u001b[0m in \u001b[0;36mplot\u001b[0;34m(self, *args, **kwargs)\u001b[0m\n\u001b[1;32m   4136\u001b[0m \u001b[0;34m\u001b[0m\u001b[0m\n\u001b[1;32m   4137\u001b[0m         \u001b[0;32mfor\u001b[0m \u001b[0mline\u001b[0m \u001b[0;32min\u001b[0m \u001b[0mself\u001b[0m\u001b[0;34m.\u001b[0m\u001b[0m_get_lines\u001b[0m\u001b[0;34m(\u001b[0m\u001b[0;34m*\u001b[0m\u001b[0margs\u001b[0m\u001b[0;34m,\u001b[0m \u001b[0;34m**\u001b[0m\u001b[0mkwargs\u001b[0m\u001b[0;34m)\u001b[0m\u001b[0;34m:\u001b[0m\u001b[0;34m\u001b[0m\u001b[0m\n\u001b[0;32m-> 4138\u001b[0;31m             \u001b[0mself\u001b[0m\u001b[0;34m.\u001b[0m\u001b[0madd_line\u001b[0m\u001b[0;34m(\u001b[0m\u001b[0mline\u001b[0m\u001b[0;34m)\u001b[0m\u001b[0;34m\u001b[0m\u001b[0m\n\u001b[0m\u001b[1;32m   4139\u001b[0m             \u001b[0mlines\u001b[0m\u001b[0;34m.\u001b[0m\u001b[0mappend\u001b[0m\u001b[0;34m(\u001b[0m\u001b[0mline\u001b[0m\u001b[0;34m)\u001b[0m\u001b[0;34m\u001b[0m\u001b[0m\n\u001b[1;32m   4140\u001b[0m \u001b[0;34m\u001b[0m\u001b[0m\n",
        "\u001b[0;32m/Users/localadmin/Library/Enthought/Canopy_64bit/User/lib/python2.7/site-packages/matplotlib/axes.pyc\u001b[0m in \u001b[0;36madd_line\u001b[0;34m(self, line)\u001b[0m\n\u001b[1;32m   1495\u001b[0m             \u001b[0mline\u001b[0m\u001b[0;34m.\u001b[0m\u001b[0mset_clip_path\u001b[0m\u001b[0;34m(\u001b[0m\u001b[0mself\u001b[0m\u001b[0;34m.\u001b[0m\u001b[0mpatch\u001b[0m\u001b[0;34m)\u001b[0m\u001b[0;34m\u001b[0m\u001b[0m\n\u001b[1;32m   1496\u001b[0m \u001b[0;34m\u001b[0m\u001b[0m\n\u001b[0;32m-> 1497\u001b[0;31m         \u001b[0mself\u001b[0m\u001b[0;34m.\u001b[0m\u001b[0m_update_line_limits\u001b[0m\u001b[0;34m(\u001b[0m\u001b[0mline\u001b[0m\u001b[0;34m)\u001b[0m\u001b[0;34m\u001b[0m\u001b[0m\n\u001b[0m\u001b[1;32m   1498\u001b[0m         \u001b[0;32mif\u001b[0m \u001b[0;32mnot\u001b[0m \u001b[0mline\u001b[0m\u001b[0;34m.\u001b[0m\u001b[0mget_label\u001b[0m\u001b[0;34m(\u001b[0m\u001b[0;34m)\u001b[0m\u001b[0;34m:\u001b[0m\u001b[0;34m\u001b[0m\u001b[0m\n\u001b[1;32m   1499\u001b[0m             \u001b[0mline\u001b[0m\u001b[0;34m.\u001b[0m\u001b[0mset_label\u001b[0m\u001b[0;34m(\u001b[0m\u001b[0;34m'_line%d'\u001b[0m \u001b[0;34m%\u001b[0m \u001b[0mlen\u001b[0m\u001b[0;34m(\u001b[0m\u001b[0mself\u001b[0m\u001b[0;34m.\u001b[0m\u001b[0mlines\u001b[0m\u001b[0;34m)\u001b[0m\u001b[0;34m)\u001b[0m\u001b[0;34m\u001b[0m\u001b[0m\n",
        "\u001b[0;32m/Users/localadmin/Library/Enthought/Canopy_64bit/User/lib/python2.7/site-packages/matplotlib/axes.pyc\u001b[0m in \u001b[0;36m_update_line_limits\u001b[0;34m(self, line)\u001b[0m\n\u001b[1;32m   1506\u001b[0m         \u001b[0mFigures\u001b[0m \u001b[0mout\u001b[0m \u001b[0mthe\u001b[0m \u001b[0mdata\u001b[0m \u001b[0mlimit\u001b[0m \u001b[0mof\u001b[0m \u001b[0mthe\u001b[0m \u001b[0mgiven\u001b[0m \u001b[0mline\u001b[0m\u001b[0;34m,\u001b[0m \u001b[0mupdating\u001b[0m \u001b[0mself\u001b[0m\u001b[0;34m.\u001b[0m\u001b[0mdataLim\u001b[0m\u001b[0;34m.\u001b[0m\u001b[0;34m\u001b[0m\u001b[0m\n\u001b[1;32m   1507\u001b[0m         \"\"\"\n\u001b[0;32m-> 1508\u001b[0;31m         \u001b[0mpath\u001b[0m \u001b[0;34m=\u001b[0m \u001b[0mline\u001b[0m\u001b[0;34m.\u001b[0m\u001b[0mget_path\u001b[0m\u001b[0;34m(\u001b[0m\u001b[0;34m)\u001b[0m\u001b[0;34m\u001b[0m\u001b[0m\n\u001b[0m\u001b[1;32m   1509\u001b[0m         \u001b[0;32mif\u001b[0m \u001b[0mpath\u001b[0m\u001b[0;34m.\u001b[0m\u001b[0mvertices\u001b[0m\u001b[0;34m.\u001b[0m\u001b[0msize\u001b[0m \u001b[0;34m==\u001b[0m \u001b[0;36m0\u001b[0m\u001b[0;34m:\u001b[0m\u001b[0;34m\u001b[0m\u001b[0m\n\u001b[1;32m   1510\u001b[0m             \u001b[0;32mreturn\u001b[0m\u001b[0;34m\u001b[0m\u001b[0m\n",
        "\u001b[0;32m/Users/localadmin/Library/Enthought/Canopy_64bit/User/lib/python2.7/site-packages/matplotlib/lines.pyc\u001b[0m in \u001b[0;36mget_path\u001b[0;34m(self)\u001b[0m\n\u001b[1;32m    741\u001b[0m         \"\"\"\n\u001b[1;32m    742\u001b[0m         \u001b[0;32mif\u001b[0m \u001b[0mself\u001b[0m\u001b[0;34m.\u001b[0m\u001b[0m_invalidy\u001b[0m \u001b[0;32mor\u001b[0m \u001b[0mself\u001b[0m\u001b[0;34m.\u001b[0m\u001b[0m_invalidx\u001b[0m\u001b[0;34m:\u001b[0m\u001b[0;34m\u001b[0m\u001b[0m\n\u001b[0;32m--> 743\u001b[0;31m             \u001b[0mself\u001b[0m\u001b[0;34m.\u001b[0m\u001b[0mrecache\u001b[0m\u001b[0;34m(\u001b[0m\u001b[0;34m)\u001b[0m\u001b[0;34m\u001b[0m\u001b[0m\n\u001b[0m\u001b[1;32m    744\u001b[0m         \u001b[0;32mreturn\u001b[0m \u001b[0mself\u001b[0m\u001b[0;34m.\u001b[0m\u001b[0m_path\u001b[0m\u001b[0;34m\u001b[0m\u001b[0m\n\u001b[1;32m    745\u001b[0m \u001b[0;34m\u001b[0m\u001b[0m\n",
        "\u001b[0;32m/Users/localadmin/Library/Enthought/Canopy_64bit/User/lib/python2.7/site-packages/matplotlib/lines.pyc\u001b[0m in \u001b[0;36mrecache\u001b[0;34m(self, always)\u001b[0m\n\u001b[1;32m    418\u001b[0m                 \u001b[0mx\u001b[0m \u001b[0;34m=\u001b[0m \u001b[0mma\u001b[0m\u001b[0;34m.\u001b[0m\u001b[0masarray\u001b[0m\u001b[0;34m(\u001b[0m\u001b[0mxconv\u001b[0m\u001b[0;34m,\u001b[0m \u001b[0mnp\u001b[0m\u001b[0;34m.\u001b[0m\u001b[0mfloat_\u001b[0m\u001b[0;34m)\u001b[0m\u001b[0;34m\u001b[0m\u001b[0m\n\u001b[1;32m    419\u001b[0m             \u001b[0;32melse\u001b[0m\u001b[0;34m:\u001b[0m\u001b[0;34m\u001b[0m\u001b[0m\n\u001b[0;32m--> 420\u001b[0;31m                 \u001b[0mx\u001b[0m \u001b[0;34m=\u001b[0m \u001b[0mnp\u001b[0m\u001b[0;34m.\u001b[0m\u001b[0masarray\u001b[0m\u001b[0;34m(\u001b[0m\u001b[0mxconv\u001b[0m\u001b[0;34m,\u001b[0m \u001b[0mnp\u001b[0m\u001b[0;34m.\u001b[0m\u001b[0mfloat_\u001b[0m\u001b[0;34m)\u001b[0m\u001b[0;34m\u001b[0m\u001b[0m\n\u001b[0m\u001b[1;32m    421\u001b[0m             \u001b[0mx\u001b[0m \u001b[0;34m=\u001b[0m \u001b[0mx\u001b[0m\u001b[0;34m.\u001b[0m\u001b[0mravel\u001b[0m\u001b[0;34m(\u001b[0m\u001b[0;34m)\u001b[0m\u001b[0;34m\u001b[0m\u001b[0m\n\u001b[1;32m    422\u001b[0m         \u001b[0;32melse\u001b[0m\u001b[0;34m:\u001b[0m\u001b[0;34m\u001b[0m\u001b[0m\n",
        "\u001b[0;32m/Users/localadmin/Library/Enthought/Canopy_64bit/User/lib/python2.7/site-packages/numpy/core/numeric.pyc\u001b[0m in \u001b[0;36masarray\u001b[0;34m(a, dtype, order)\u001b[0m\n\u001b[1;32m    458\u001b[0m \u001b[0;34m\u001b[0m\u001b[0m\n\u001b[1;32m    459\u001b[0m     \"\"\"\n\u001b[0;32m--> 460\u001b[0;31m     \u001b[0;32mreturn\u001b[0m \u001b[0marray\u001b[0m\u001b[0;34m(\u001b[0m\u001b[0ma\u001b[0m\u001b[0;34m,\u001b[0m \u001b[0mdtype\u001b[0m\u001b[0;34m,\u001b[0m \u001b[0mcopy\u001b[0m\u001b[0;34m=\u001b[0m\u001b[0mFalse\u001b[0m\u001b[0;34m,\u001b[0m \u001b[0morder\u001b[0m\u001b[0;34m=\u001b[0m\u001b[0morder\u001b[0m\u001b[0;34m)\u001b[0m\u001b[0;34m\u001b[0m\u001b[0m\n\u001b[0m\u001b[1;32m    461\u001b[0m \u001b[0;34m\u001b[0m\u001b[0m\n\u001b[1;32m    462\u001b[0m \u001b[0;32mdef\u001b[0m \u001b[0masanyarray\u001b[0m\u001b[0;34m(\u001b[0m\u001b[0ma\u001b[0m\u001b[0;34m,\u001b[0m \u001b[0mdtype\u001b[0m\u001b[0;34m=\u001b[0m\u001b[0mNone\u001b[0m\u001b[0;34m,\u001b[0m \u001b[0morder\u001b[0m\u001b[0;34m=\u001b[0m\u001b[0mNone\u001b[0m\u001b[0;34m)\u001b[0m\u001b[0;34m:\u001b[0m\u001b[0;34m\u001b[0m\u001b[0m\n",
        "\u001b[0;31mTypeError\u001b[0m: float() argument must be a string or a number"
       ]
      },
      {
       "metadata": {},
       "output_type": "display_data",
       "png": "[encoded data removed]",
       "text": [
        "<matplotlib.figure.Figure at 0x10e2f3590>"
       ]
      }
     ],
     "prompt_number": 21
    },
    {
     "cell_type": "code",
     "collapsed": false,
     "input": [
      "dates = pd.date_range(start_date, end_date)\n",
      "prices_all = get_data(symbols, dates)  # automatically adds SPY\n",
      "prices = prices_all[symbols]  # only portfolio symbols\n",
      "prices_SPY = prices_all['SPY']  # only SPY, for comparison later"
     ],
     "language": "python",
     "metadata": {},
     "outputs": [],
     "prompt_number": 13
    },
    {
     "cell_type": "code",
     "collapsed": false,
     "input": [
      "plt.plot(list(prices.index), prices.values)"
     ],
     "language": "python",
     "metadata": {},
     "outputs": [
      {
       "metadata": {},
       "output_type": "pyout",
       "prompt_number": 19,
       "text": [
        "[<matplotlib.lines.Line2D at 0x11194fcd0>,\n",
        " <matplotlib.lines.Line2D at 0x1037cb5d0>,\n",
        " <matplotlib.lines.Line2D at 0x1037cb810>,\n",
        " <matplotlib.lines.Line2D at 0x1037cb9d0>]"
       ]
      },
      {
       "metadata": {},
       "output_type": "display_data",
       "png": "[encoded data removed]",
       "text": [
        "<matplotlib.figure.Figure at 0x111976650>"
       ]
      }
     ],
     "prompt_number": 19
    },
    {
     "cell_type": "code",
     "collapsed": false,
     "input": [
      "prices.index"
     ],
     "language": "python",
     "metadata": {},
     "outputs": [
      {
       "metadata": {},
       "output_type": "pyout",
       "prompt_number": 22,
       "text": [
        "<class 'pandas.tseries.index.DatetimeIndex'>\n",
        "[2010-01-04, ..., 2010-12-31]\n",
        "Length: 252, Freq: None, Timezone: None"
       ]
      }
     ],
     "prompt_number": 22
    },
    {
     "cell_type": "code",
     "collapsed": false,
     "input": [
      "df = prices.copy()"
     ],
     "language": "python",
     "metadata": {},
     "outputs": [],
     "prompt_number": 24
    },
    {
     "cell_type": "code",
     "collapsed": false,
     "input": [
      "nar = df.values"
     ],
     "language": "python",
     "metadata": {},
     "outputs": [],
     "prompt_number": 27
    },
    {
     "cell_type": "code",
     "collapsed": false,
     "input": [
      "range(len(nar[0]))"
     ],
     "language": "python",
     "metadata": {},
     "outputs": [
      {
       "metadata": {},
       "output_type": "pyout",
       "prompt_number": 28,
       "text": [
        "[0, 1, 2, 3]"
       ]
      }
     ],
     "prompt_number": 28
    },
    {
     "cell_type": "code",
     "collapsed": false,
     "input": [
      "nar"
     ],
     "language": "python",
     "metadata": {},
     "outputs": [
      {
       "metadata": {},
       "output_type": "pyout",
       "prompt_number": 29,
       "text": [
        "array([[ 626.75,  213.1 ,  109.8 ,   64.55],\n",
        "       [ 623.99,  213.46,  109.7 ,   64.8 ],\n",
        "       [ 608.26,  210.07,  111.51,   65.36],\n",
        "       ..., \n",
        "       [ 601.  ,  323.9 ,  137.71,   70.34],\n",
        "       [ 598.86,  322.28,  137.03,   70.33],\n",
        "       [ 593.97,  321.18,  138.72,   70.1 ]])"
       ]
      }
     ],
     "prompt_number": 29
    },
    {
     "cell_type": "code",
     "collapsed": false,
     "input": [
      "for i in range(len(nar[0])):\n",
      "    nar[:][i] = (nar[:][i] - nar[0][i]) / nar[0][i]\n"
     ],
     "language": "python",
     "metadata": {},
     "outputs": [],
     "prompt_number": 30
    },
    {
     "cell_type": "code",
     "collapsed": false,
     "input": [
      "nar"
     ],
     "language": "python",
     "metadata": {},
     "outputs": [
      {
       "metadata": {},
       "output_type": "pyout",
       "prompt_number": 31,
       "text": [
        "array([[  0.00000000e+00,  -6.59992022e-01,  -8.24810531e-01,\n",
        "         -8.97008377e-01],\n",
        "       [ -9.46450822e+02,  -3.24428152e+02,  -1.67214130e+02,\n",
        "         -9.91830050e+01],\n",
        "       [ -7.38454212e+02,  -2.55688795e+02,  -1.36194685e+02,\n",
        "         -8.02424412e+01],\n",
        "       ..., \n",
        "       [  6.01000000e+02,   3.23900000e+02,   1.37710000e+02,\n",
        "          7.03400000e+01],\n",
        "       [  5.98860000e+02,   3.22280000e+02,   1.37030000e+02,\n",
        "          7.03300000e+01],\n",
        "       [  5.93970000e+02,   3.21180000e+02,   1.38720000e+02,\n",
        "          7.01000000e+01]])"
       ]
      }
     ],
     "prompt_number": 31
    },
    {
     "cell_type": "code",
     "collapsed": false,
     "input": [],
     "language": "python",
     "metadata": {},
     "outputs": []
    }
   ],
   "metadata": {}
  }
 ]
}